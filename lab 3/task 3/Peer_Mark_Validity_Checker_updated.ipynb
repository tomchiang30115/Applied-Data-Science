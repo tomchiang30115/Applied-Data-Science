{
 "cells": [
  {
   "cell_type": "markdown",
   "metadata": {
    "collapsed": true
   },
   "source": [
    "## Peer Mark Validity Checker\n",
    "\n",
    "This script will read a peer marking form to check that is can be correctly processed.\n",
    "\n",
    "It has been updated to reflect corrupted forms that can still be processed.\n",
    "\n",
    "Ken Cameron 2020-2021"
   ]
  },
  {
   "cell_type": "code",
   "execution_count": null,
   "metadata": {},
   "outputs": [],
   "source": [
    "import PyPDF2\n",
    "\n",
    "spec_task_list = ['task1a','task1b','task1c','task1d','task1e','task2a','task2b','task2c','task2d','task2e']\n",
    "\n",
    "from PyPDF2 import PdfFileReader\n",
    "\n",
    "def pdf_form_parse(file, fields):\n",
    "    \n",
    "    try:\n",
    "        pdf = PdfFileReader(str(file),strict=False)\n",
    "        a = pdf.getFields()\n",
    "        r = dict()\n",
    "    except:\n",
    "        printf(\"Could not open or extract the contents of the file. Are you sure you specified the correct file.\")\n",
    "    \n",
    "    total = 0\n",
    "    try:\n",
    "        x = 'YourID'\n",
    "        if '/V' in a[x]:\n",
    "            r[x] = a[x]['/V']\n",
    "        else:\n",
    "            r[x] = \"Missing\";\n",
    "        print(\"YourID: \"+str(r['YourID']).replace('\"','\"\"'))\n",
    "    except:\n",
    "        print(\"YourID: Caused an exception to be raised.\")\n",
    "\n",
    "    try:\n",
    "        x = 'AssessedID'\n",
    "        if '/V' in a[x]:\n",
    "            r[x] = a[x]['/V']\n",
    "        else:\n",
    "            r[x] = \"Missing\";\n",
    "        print(\"AssessedID: \"+str(r['AssessedID']).replace('\"','\"\"'))\n",
    "    except:\n",
    "        print(\"AssessedID: Caused an exception to be raised.\")\n",
    "    \n",
    "    for x in fields:\n",
    "        try:\n",
    "            if '/V' in a[x]:\n",
    "                r[x] = a[x]['/V']\n",
    "                if (r[x] != 'No') and (r[x]!='Yes'):\n",
    "                    try:\n",
    "                        total = total + int(r[x])\n",
    "                        print(a[x]['/T']+\": \"+str(r[x]))\n",
    "                    except:\n",
    "                        print(a[x]['/T']+\": Not an expected value\")\n",
    "                else:\n",
    "                    print(a[x]['/T']+\": \"+str(r[x]))\n",
    "            else:\n",
    "                r[x] = 0\n",
    "                print(a[x]['/T']+\": Not found. Treating as 0/No.\")\n",
    "        except:\n",
    "            print(a[x]['T']+\": Caused an exception to be raised\")\n",
    "\n",
    "    return\n",
    "                  \n",
    "file = r'c:\\filename_goes_here.pdf'\n",
    "pdf_form_parse(file, spec_task_list)\n",
    "\n"
   ]
  }
 ],
 "metadata": {
  "kernelspec": {
   "display_name": "Python 3",
   "language": "python",
   "name": "python3"
  },
  "language_info": {
   "codemirror_mode": {
    "name": "ipython",
    "version": 3
   },
   "file_extension": ".py",
   "mimetype": "text/x-python",
   "name": "python",
   "nbconvert_exporter": "python",
   "pygments_lexer": "ipython3",
   "version": "3.6.1"
  }
 },
 "nbformat": 4,
 "nbformat_minor": 2
}
